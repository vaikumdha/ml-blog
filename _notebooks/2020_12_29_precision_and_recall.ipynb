{
  "nbformat": 4,
  "nbformat_minor": 0,
  "metadata": {
    "colab": {
      "name": "_notebooks/2020-12-29-precision-and-recall.ipynb",
      "provenance": [],
      "collapsed_sections": [],
      "authorship_tag": "ABX9TyOiUOHi6ckdFr7CV34mQUmn"
    },
    "kernelspec": {
      "name": "python3",
      "display_name": "Python 3"
    }
  },
  "cells": [
    {
      "cell_type": "markdown",
      "metadata": {
        "id": "2T0xU9VpA1r8"
      },
      "source": [
        "# \"Precision, Recall and More \"\n",
        "> \"This article helps you to choose the right metrics of model evaluation for a classification problem\"\n",
        " \n",
        "- toc: false\n",
        "- branch: master\n",
        "- badges: true\n",
        "- comments: false\n",
        "- author: VaiKumDha\n",
        "- categories: [Precision, Recall, Confusion Matrix, Jupyter, Python]\n",
        "**bold text**"
      ]
    },
    {
      "cell_type": "markdown",
      "metadata": {
        "id": "ud95ExuAL7JO"
      },
      "source": [
        "Translating a product requirement into a classification metric is critical to evaluate a model. In this article we will be going through a single number evaluation metric. Before we dive into metrics we need to understand confusion matrix aka Error Matrix. This is a table that allows us to vizualize the classifications of a model. From this confusion matrix we can derive multiple evaulation model metrics."
      ]
    },
    {
      "cell_type": "markdown",
      "metadata": {
        "id": "uCZIwRUjMu1A"
      },
      "source": [
        "Lets start with a [funny example where the AI model got confused between a football and refree's bald head](https://www.theverge.com/tldr/2020/11/3/21547392/ai-camera-operator-football-bald-head-soccer-mistakes). To keep things simple we are planning to improve the model by adding in a binary classifier. We input multiple pictures of ball and head. Our aim is to evaulate the new model's performance. "
      ]
    },
    {
      "cell_type": "markdown",
      "metadata": {
        "id": "Sy3lqPYHQmK3"
      },
      "source": [
        "We are testing the new model on a set of 60 pictures, 40 of them ball while the rest 20 head. The model has classified 50 images as ball and 10 as head. After manual investigation of the model output, we find that out of 50 classified as balls, 18 of them are heads while out of the 10 classified heads 8 of them are balls. Visualizing the above infomration would be easy."
      ]
    },
    {
      "cell_type": "code",
      "metadata": {
        "id": "ss_Oc_blTJRC"
      },
      "source": [
        "# Import Seaborn \n",
        "import seaborn as sns\n",
        "from mlxtend.plotting import plot_confusion_matrix\n",
        "import matplotlib.pyplot as plt\n",
        "import numpy as np\n"
      ],
      "execution_count": 7,
      "outputs": []
    },
    {
      "cell_type": "code",
      "metadata": {
        "colab": {
          "base_uri": "https://localhost:8080/",
          "height": 320
        },
        "id": "azU8zbKhT7E9",
        "outputId": "9b69ed64-4a88-429d-ff69-3c17a8927bbe"
      },
      "source": [
        "confusionMat = np.array([[32, 2],\n",
        "                   [18, 8]])\n",
        "\n",
        "fig, ax = plot_confusion_matrix(conf_mat=confusionMat)\n",
        "plt.show()"
      ],
      "execution_count": 11,
      "outputs": [
        {
          "output_type": "display_data",
          "data": {
            "image/png": "[encoded data removed]",
            "text/plain": [
              "<Figure size 432x288 with 1 Axes>"
            ]
          },
          "metadata": {
            "tags": [],
            "needs_background": "light"
          }
        }
      ]
    }
  ]
}