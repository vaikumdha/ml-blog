{
  "nbformat": 4,
  "nbformat_minor": 0,
  "metadata": {
    "colab": {
      "name": "_notebooks/2020-12-29-precision-and-recall.ipynb",
      "provenance": [],
      "authorship_tag": "ABX9TyNIBYor8nq7iDQyZZ0ZkJoS"
    },
    "kernelspec": {
      "name": "python3",
      "display_name": "Python 3"
    }
  },
  "cells": [
    {
      "cell_type": "markdown",
      "metadata": {
        "id": "2T0xU9VpA1r8"
      },
      "source": [
        "# \"My Title\"\n",
        "> \"Precision And Recall\"\n",
        " \n",
        "- toc: true\n",
        "- branch: master\n",
        "- badges: true\n",
        "- comments: true\n",
        "- author: Hamel Husain & Jeremy Howard\n",
        "- categories: [Precision, Recall, Confusion Matrix, Jupyter, Python]\n",
        "\n",
        "\n"
      ]
    },
    {
      "cell_type": "markdown",
      "metadata": {
        "id": "htOHBr9QBk5j"
      },
      "source": [
        "# Blog Section"
      ]
    },
    {
      "cell_type": "code",
      "metadata": {
        "colab": {
          "base_uri": "https://localhost:8080/"
        },
        "id": "JK5bn-zeBdlr",
        "outputId": "7d421d84-12dc-4952-ea73-c34482fe9392"
      },
      "source": [
        "print(\"Hello World\")"
      ],
      "execution_count": 3,
      "outputs": [
        {
          "output_type": "stream",
          "text": [
            "Hello World\n"
          ],
          "name": "stdout"
        }
      ]
    }
  ]
}